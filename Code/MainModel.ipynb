{
  "nbformat": 4,
  "nbformat_minor": 0,
  "metadata": {
    "colab": {
      "name": "MainModel",
      "provenance": [],
      "collapsed_sections": []
    },
    "kernelspec": {
      "name": "python3",
      "display_name": "Python 3"
    },
    "language_info": {
      "name": "python"
    }
  },
  "cells": [
    {
      "cell_type": "markdown",
      "metadata": {
        "id": "K4-rAJIv6qn4"
      },
      "source": [
        "IMPORTS AND INSTALLS\n",
        "\n"
      ]
    },
    {
      "cell_type": "code",
      "metadata": {
        "id": "sQ4XlKLzBOWM"
      },
      "source": [
        "import pandas as pd\n",
        "import numpy as np\n",
        "from numpy import percentile\n",
        "import matplotlib.pyplot as plt\n",
        "import seaborn as sns\n",
        "import matplotlib\n",
        "import re # for regular expressions\n",
        "import pandas as pd \n",
        "pd.set_option(\"display.max_colwidth\", 200) \n",
        "import string\n",
        "import nltk # for text manipulation\n",
        "from nltk.stem.porter import *\n",
        "from sklearn.feature_extraction.text import TfidfVectorizer, CountVectorizer\n",
        "from tqdm import tqdm\n",
        "from gensim.models.doc2vec import LabeledSentence\n",
        "import gensim\n",
        "from sklearn.linear_model import LogisticRegression\n",
        "from scipy import stats \n",
        "from sklearn import metrics \n",
        "from sklearn.metrics import mean_squared_error,mean_absolute_error, make_scorer,classification_report,confusion_matrix,accuracy_score,roc_auc_score,roc_curve\n",
        "from sklearn.model_selection import train_test_split,cross_val_score,KFold\n",
        "from sklearn.model_selection import train_test_split\n",
        "from sklearn.metrics import f1_score\n",
        "from sklearn.naive_bayes import BernoulliNB\n",
        "from sklearn import svm\n",
        "from sklearn.ensemble import RandomForestClassifier\n",
        "from xgboost import XGBClassifier\n",
        "import xgboost as xgb\n",
        "import warnings \n",
        "warnings.filterwarnings(\"ignore\")\n",
        "\n",
        "%matplotlib inline"
      ],
      "execution_count": 1,
      "outputs": []
    },
    {
      "cell_type": "code",
      "metadata": {
        "id": "gb8v8TSr6jyL",
        "colab": {
          "base_uri": "https://localhost:8080/"
        },
        "outputId": "b133ffdb-70e0-47c2-e7ec-3c3427688049"
      },
      "source": [
        "import pandas as pd\n",
        "import numpy as np\n",
        "import matplotlib.pyplot as plt\n",
        "plt.style.use('seaborn-darkgrid')\n",
        "import seaborn as sns\n",
        "import os\n",
        "import csv\n",
        "\n",
        "#SNSCRAPE LIBRARIES\n",
        "!pip install git+https://github.com/JustAnotherArchivist/snscrape.git\n",
        "! pip install -U textblob\n",
        "! python -m textblob.download_corpora\n",
        "!pip install pandas\n",
        "!pip install wordcloud\n",
        "!pip install plotly==5.3.1\n",
        "\n",
        "#Data Preprocessing and Feature Engineering\n",
        "from textblob import TextBlob, Word, Blobber\n",
        "from textblob.classifiers import NaiveBayesClassifier\n",
        "from textblob.taggers import NLTKTagger\n",
        "import string\n",
        "\n",
        "import re\n",
        "import nltk\n",
        "from bs4 import BeautifulSoup\n",
        "import nltk.corpus\n",
        "nltk.download('stopwords')\n",
        "from nltk.corpus import stopwords\n",
        "from nltk.tokenize import word_tokenize\n",
        "from nltk.tokenize import RegexpTokenizer\n",
        "from nltk.stem.wordnet import WordNetLemmatizer\n",
        "from sklearn.feature_extraction.text import CountVectorizer, TfidfTransformer\n",
        "from nltk import PorterStemmer\n",
        "from nltk.stem.wordnet import WordNetLemmatizer\n",
        "from sklearn.feature_extraction.text import CountVectorizer, TfidfTransformer\n",
        "from wordcloud import WordCloud, ImageColorGenerator\n",
        "from PIL import Image\n",
        "import plotly.express as pex\n",
        "\n",
        "import urllib\n",
        "import requests\n",
        "\n",
        "#Model Selection and Validation\n",
        "from sklearn.naive_bayes import MultinomialNB\n",
        "from sklearn.model_selection import train_test_split\n",
        "from sklearn.pipeline import Pipeline\n",
        "from sklearn.metrics import confusion_matrix, classification_report,accuracy_score\n",
        "pd.set_option(\"display.max_colwidth\", -1)"
      ],
      "execution_count": 2,
      "outputs": [
        {
          "output_type": "stream",
          "name": "stdout",
          "text": [
            "Collecting git+https://github.com/JustAnotherArchivist/snscrape.git\n",
            "  Cloning https://github.com/JustAnotherArchivist/snscrape.git to /tmp/pip-req-build-00eo62xi\n",
            "  Running command git clone -q https://github.com/JustAnotherArchivist/snscrape.git /tmp/pip-req-build-00eo62xi\n",
            "Requirement already satisfied: requests[socks] in /usr/local/lib/python3.7/dist-packages (from snscrape==0.4.0.20211208) (2.23.0)\n",
            "Requirement already satisfied: lxml in /usr/local/lib/python3.7/dist-packages (from snscrape==0.4.0.20211208) (4.2.6)\n",
            "Requirement already satisfied: beautifulsoup4 in /usr/local/lib/python3.7/dist-packages (from snscrape==0.4.0.20211208) (4.6.3)\n",
            "Requirement already satisfied: pytz in /usr/local/lib/python3.7/dist-packages (from snscrape==0.4.0.20211208) (2018.9)\n",
            "\u001b[31mERROR: Package 'snscrape' requires a different Python: 3.7.12 not in '~=3.8'\u001b[0m\n",
            "Requirement already satisfied: textblob in /usr/local/lib/python3.7/dist-packages (0.17.1)\n",
            "Requirement already satisfied: nltk>=3.1 in /usr/local/lib/python3.7/dist-packages (from textblob) (3.2.5)\n",
            "Requirement already satisfied: six in /usr/local/lib/python3.7/dist-packages (from nltk>=3.1->textblob) (1.15.0)\n",
            "[nltk_data] Downloading package brown to /root/nltk_data...\n",
            "[nltk_data]   Package brown is already up-to-date!\n",
            "[nltk_data] Downloading package punkt to /root/nltk_data...\n",
            "[nltk_data]   Package punkt is already up-to-date!\n",
            "[nltk_data] Downloading package wordnet to /root/nltk_data...\n",
            "[nltk_data]   Package wordnet is already up-to-date!\n",
            "[nltk_data] Downloading package averaged_perceptron_tagger to\n",
            "[nltk_data]     /root/nltk_data...\n",
            "[nltk_data]   Package averaged_perceptron_tagger is already up-to-\n",
            "[nltk_data]       date!\n",
            "[nltk_data] Downloading package conll2000 to /root/nltk_data...\n",
            "[nltk_data]   Package conll2000 is already up-to-date!\n",
            "[nltk_data] Downloading package movie_reviews to /root/nltk_data...\n",
            "[nltk_data]   Package movie_reviews is already up-to-date!\n",
            "Finished.\n",
            "Requirement already satisfied: pandas in /usr/local/lib/python3.7/dist-packages (1.1.5)\n",
            "Requirement already satisfied: pytz>=2017.2 in /usr/local/lib/python3.7/dist-packages (from pandas) (2018.9)\n",
            "Requirement already satisfied: numpy>=1.15.4 in /usr/local/lib/python3.7/dist-packages (from pandas) (1.19.5)\n",
            "Requirement already satisfied: python-dateutil>=2.7.3 in /usr/local/lib/python3.7/dist-packages (from pandas) (2.8.2)\n",
            "Requirement already satisfied: six>=1.5 in /usr/local/lib/python3.7/dist-packages (from python-dateutil>=2.7.3->pandas) (1.15.0)\n",
            "Requirement already satisfied: wordcloud in /usr/local/lib/python3.7/dist-packages (1.5.0)\n",
            "Requirement already satisfied: pillow in /usr/local/lib/python3.7/dist-packages (from wordcloud) (7.1.2)\n",
            "Requirement already satisfied: numpy>=1.6.1 in /usr/local/lib/python3.7/dist-packages (from wordcloud) (1.19.5)\n",
            "Requirement already satisfied: plotly==5.3.1 in /usr/local/lib/python3.7/dist-packages (5.3.1)\n",
            "Requirement already satisfied: tenacity>=6.2.0 in /usr/local/lib/python3.7/dist-packages (from plotly==5.3.1) (8.0.1)\n",
            "Requirement already satisfied: six in /usr/local/lib/python3.7/dist-packages (from plotly==5.3.1) (1.15.0)\n",
            "[nltk_data] Downloading package stopwords to /root/nltk_data...\n",
            "[nltk_data]   Package stopwords is already up-to-date!\n"
          ]
        }
      ]
    },
    {
      "cell_type": "markdown",
      "metadata": {
        "id": "jA03vt7dpWeR"
      },
      "source": [
        "SCRAPING TWEETS USING SNSCRAPE LIBRARY, RAW JSON DATA"
      ]
    },
    {
      "cell_type": "code",
      "metadata": {
        "id": "QCH6XVX2pT-H"
      },
      "source": [
        "# tweet_count = 500\n",
        "# text_query = \"COVID-19 Vaccine\"\n",
        "# since_date = \"2020-03-01\"\n",
        "# until_date = \"2020-03-31\"\n",
        "\n",
        "# os.system('snscrape --jsonl --max-results {} --since {} twitter-search \"{} until:{}\"> text-query-tweets.json'.format(tweet_count, since_date, text_query, until_date))"
      ],
      "execution_count": 3,
      "outputs": []
    },
    {
      "cell_type": "markdown",
      "metadata": {
        "id": "fadDSlkJpsHH"
      },
      "source": [
        "EDA, PREPROCESSING, CLEANING STEPS\n"
      ]
    },
    {
      "cell_type": "markdown",
      "metadata": {
        "id": "rkrjkNILq95w"
      },
      "source": [
        "CLEAN FUNCTION TO CLEAN THE TEXT USING REGULAR EXPRESSIONS "
      ]
    },
    {
      "cell_type": "code",
      "metadata": {
        "id": "HJ4Lw2_Wpxfs"
      },
      "source": [
        "# def clean_text(text):\n",
        "#     text_lc = \"\".join([word.lower() for word in text if word not in string.punctuation]) # remove puntuation\n",
        "#     text_rc = re.sub('[0-9]+', '', text_lc)\n",
        "#     tokens = re.split('\\W+', text_rc)    # tokenization\n",
        "#     text = [word for word in tokens if word not in final_stopword_list]  # remove stopwords and stemming\n",
        "#     return text"
      ],
      "execution_count": 4,
      "outputs": []
    },
    {
      "cell_type": "code",
      "metadata": {
        "id": "bwo1Q-BVqmE6"
      },
      "source": [
        "# tweet_df['tweet_nonstop']=tweet_df['tweet_nonstop'].apply(lambda x: ' '.join(x))"
      ],
      "execution_count": 5,
      "outputs": []
    },
    {
      "cell_type": "markdown",
      "metadata": {
        "id": "lEGgreUirFKc"
      },
      "source": [
        "TRYING OUT COUNT VECTORIZER "
      ]
    },
    {
      "cell_type": "code",
      "metadata": {
        "id": "z_N8HKQXqnQf"
      },
      "source": [
        "# countVectorizer = CountVectorizer(analyzer=clean_text) \n",
        "# countVector = countVectorizer.fit_transform(tweet_df['content'])\n",
        "# print('{} Number of tweets has {} words'.format(countVector.shape[0], countVector.shape[1]))\n",
        "# #print(countVectorizer.get_feature_names())"
      ],
      "execution_count": 6,
      "outputs": []
    },
    {
      "cell_type": "code",
      "metadata": {
        "id": "vh67QVqIqntL"
      },
      "source": [
        "# count_vect_df = pd.DataFrame(countVector.toarray(), columns=countVectorizer.get_feature_names())\n",
        "# #count_vect_df.sample(10)"
      ],
      "execution_count": 7,
      "outputs": []
    },
    {
      "cell_type": "markdown",
      "metadata": {
        "id": "sKeUTL8frKoz"
      },
      "source": [
        "FUNCTION TO EXTRACT N-GRAMS FROM TOKENIZED TEXT "
      ]
    },
    {
      "cell_type": "code",
      "metadata": {
        "id": "xLDp0Gt-qnwl"
      },
      "source": [
        "# import nltk\n",
        "# from nltk.util import ngrams\n",
        "# def extract_ngrams(data, num):\n",
        "#     n_grams = ngrams(nltk.word_tokenize(data), num)\n",
        "#     return [ ' '.join(grams) for grams in n_grams]\n",
        "    \n",
        " \n",
        "# data = ' '.join(tweet_df['tweet_nonstop'].tail(3000))"
      ],
      "execution_count": 8,
      "outputs": []
    },
    {
      "cell_type": "code",
      "metadata": {
        "id": "mYUF3voSqnzo"
      },
      "source": [
        "# print(\"4-gram: \", extract_ngrams(data, 4))\n",
        "\n"
      ],
      "execution_count": 9,
      "outputs": []
    },
    {
      "cell_type": "markdown",
      "metadata": {
        "id": "YQbHKU6Eq6h8"
      },
      "source": [
        "BI-GRAMS"
      ]
    },
    {
      "cell_type": "code",
      "metadata": {
        "id": "-ZkeFAQPqn2k"
      },
      "source": [
        "# from collections import Counter\n",
        "\n",
        "# a = extract_ngrams(data, 2)\n",
        "\n",
        "# c = Counter(a)\n",
        "\n",
        "# print(c.most_common(30))"
      ],
      "execution_count": 10,
      "outputs": []
    },
    {
      "cell_type": "code",
      "metadata": {
        "id": "02-d6kEoqn5k"
      },
      "source": [
        "# type(c.most_common(15)[0])"
      ],
      "execution_count": 11,
      "outputs": []
    },
    {
      "cell_type": "code",
      "metadata": {
        "id": "8NBKZNd8qn8f"
      },
      "source": [
        "# aList = list(c.most_common(30))"
      ],
      "execution_count": 12,
      "outputs": []
    },
    {
      "cell_type": "code",
      "metadata": {
        "id": "StDsxOZ5qn_J"
      },
      "source": [
        "# aList"
      ],
      "execution_count": 13,
      "outputs": []
    },
    {
      "cell_type": "markdown",
      "metadata": {
        "id": "QaSrSJVjrxCB"
      },
      "source": [
        "ROLLING AVERAGE OF NLTK_SENTIMENT SCORE OVER THE PERIOD OF 18 MONTHS"
      ]
    },
    {
      "cell_type": "code",
      "metadata": {
        "id": "1hL1gDz-rpDd"
      },
      "source": [
        "# rolling_windows = tweet_df.rolling(100, min_periods=1)\n",
        "\n",
        "# rolling_mean = rolling_windows.mean()\n",
        "\n",
        "# print(rolling_mean)"
      ],
      "execution_count": 14,
      "outputs": []
    },
    {
      "cell_type": "code",
      "metadata": {
        "id": "GcBWbn-LrpGp"
      },
      "source": [
        "# rolling_data=tweet_df['nltk_cmp_score'].rolling(200,min_periods=100).mean()"
      ],
      "execution_count": 15,
      "outputs": []
    },
    {
      "cell_type": "code",
      "metadata": {
        "id": "QDOdIGTHrpJl"
      },
      "source": [
        "# rolling_data = rolling_data.iloc[100:]"
      ],
      "execution_count": 16,
      "outputs": []
    },
    {
      "cell_type": "code",
      "metadata": {
        "id": "Cq0wBOaerpMW"
      },
      "source": [
        "# rolling_data.iplot()"
      ],
      "execution_count": 17,
      "outputs": []
    },
    {
      "cell_type": "code",
      "metadata": {
        "id": "JnpUzyXgsVj6"
      },
      "source": [
        "# tweet_df['label']=tweet_df['nltk_sentiment']"
      ],
      "execution_count": 18,
      "outputs": []
    },
    {
      "cell_type": "markdown",
      "metadata": {
        "id": "ocaBD96esxmU"
      },
      "source": [
        "BUCKETING NLTK_SENTIMENT SCORES INTO 2 CLASSES || 0-NEUTRAL SENTIMENT ||1-POSITIVE SENTIMENT || 2-NEGATIVE SENTIMENT ||\n"
      ]
    },
    {
      "cell_type": "code",
      "metadata": {
        "id": "xDHQerDisVnC"
      },
      "source": [
        "# tweet_df.loc[tweet_df['label'] == \"Positive\", 'label'] = 1\n"
      ],
      "execution_count": 19,
      "outputs": []
    },
    {
      "cell_type": "code",
      "metadata": {
        "id": "UtjIeGHAsVqB"
      },
      "source": [
        "# tweet_df.loc[tweet_df['label'] == \"Negative\", 'label'] = 2\n"
      ],
      "execution_count": 20,
      "outputs": []
    },
    {
      "cell_type": "code",
      "metadata": {
        "id": "rfbgjvbXsgWS"
      },
      "source": [
        "# tweet_df.loc[tweet_df['label'] == \"Neutral\", 'label'] = 0\n"
      ],
      "execution_count": 21,
      "outputs": []
    },
    {
      "cell_type": "code",
      "metadata": {
        "id": "YAU_g2RjsgZd"
      },
      "source": [
        "# writer = pd.ExcelWriter('/Users/bindupriya/Desktop/Final-updated.xlsx')\n",
        "# # write dataframe to excel\n",
        "# tweet_df.to_excel(writer)\n",
        "# # save the excel\n",
        "# writer.save()"
      ],
      "execution_count": 22,
      "outputs": []
    },
    {
      "cell_type": "markdown",
      "metadata": {
        "id": "aULvFMkosp1i"
      },
      "source": [
        "TRYING OUT TFIDF VECTORIZER NOW.."
      ]
    },
    {
      "cell_type": "code",
      "metadata": {
        "id": "LaN20dresgc5"
      },
      "source": [
        "# vectorizer = TfidfVectorizer()\n",
        "\n",
        "# X = vectorizer.fit_transform(tweet_df['tweet_nonstop'].values.astype('U'))\n"
      ],
      "execution_count": 23,
      "outputs": []
    },
    {
      "cell_type": "markdown",
      "metadata": {
        "id": "Qmi98vcrrmra"
      },
      "source": [
        ""
      ]
    },
    {
      "cell_type": "code",
      "metadata": {
        "colab": {
          "base_uri": "https://localhost:8080/"
        },
        "id": "izlLTnGq680o",
        "outputId": "dce1b6b9-9386-43b1-8a7b-0bc97628bee3"
      },
      "source": [
        "from google.colab import drive\n",
        "drive.mount('/content/drive')"
      ],
      "execution_count": 24,
      "outputs": [
        {
          "output_type": "stream",
          "name": "stdout",
          "text": [
            "Drive already mounted at /content/drive; to attempt to forcibly remount, call drive.mount(\"/content/drive\", force_remount=True).\n"
          ]
        }
      ]
    },
    {
      "cell_type": "code",
      "metadata": {
        "id": "9BW0VW2Uam1y"
      },
      "source": [
        "df=pd.read_excel('/content/drive/MyDrive/final-updated data/Final-updated.xlsx')"
      ],
      "execution_count": 25,
      "outputs": []
    },
    {
      "cell_type": "code",
      "metadata": {
        "id": "NNNJU94IRYZT"
      },
      "source": [
        "df_predict=pd.read_excel('/content/drive/MyDrive/final-updated data/Final-updated.xlsx')"
      ],
      "execution_count": 26,
      "outputs": []
    },
    {
      "cell_type": "code",
      "metadata": {
        "colab": {
          "base_uri": "https://localhost:8080/"
        },
        "id": "H4ccUp1TR2Zj",
        "outputId": "8fb35116-a190-443e-fc24-fce6febf43ad"
      },
      "source": [
        "df_predictions_18k=df_predict[['tweet_nonstop','label']]\n",
        "df_predictions_18k.shape"
      ],
      "execution_count": 27,
      "outputs": [
        {
          "output_type": "execute_result",
          "data": {
            "text/plain": [
              "(18000, 2)"
            ]
          },
          "metadata": {},
          "execution_count": 27
        }
      ]
    },
    {
      "cell_type": "code",
      "metadata": {
        "id": "Kn4Ci7uBRuqA"
      },
      "source": [
        "df_predictions_18k.dropna(inplace=True)"
      ],
      "execution_count": 28,
      "outputs": []
    },
    {
      "cell_type": "code",
      "metadata": {
        "colab": {
          "base_uri": "https://localhost:8080/"
        },
        "id": "vWu3UpKQSgMa",
        "outputId": "a22f964f-7d8b-4efb-d4ca-b8d39dd4685a"
      },
      "source": [
        "df_predictions_18k.shape"
      ],
      "execution_count": 29,
      "outputs": [
        {
          "output_type": "execute_result",
          "data": {
            "text/plain": [
              "(17838, 2)"
            ]
          },
          "metadata": {},
          "execution_count": 29
        }
      ]
    },
    {
      "cell_type": "code",
      "metadata": {
        "colab": {
          "base_uri": "https://localhost:8080/",
          "height": 1000
        },
        "id": "WgQFx1cKam4t",
        "outputId": "d5703396-5ade-4283-b1f7-3596fb855916"
      },
      "source": [
        "df"
      ],
      "execution_count": 30,
      "outputs": [
        {
          "output_type": "execute_result",
          "data": {
            "text/html": [
              "<div>\n",
              "<style scoped>\n",
              "    .dataframe tbody tr th:only-of-type {\n",
              "        vertical-align: middle;\n",
              "    }\n",
              "\n",
              "    .dataframe tbody tr th {\n",
              "        vertical-align: top;\n",
              "    }\n",
              "\n",
              "    .dataframe thead th {\n",
              "        text-align: right;\n",
              "    }\n",
              "</style>\n",
              "<table border=\"1\" class=\"dataframe\">\n",
              "  <thead>\n",
              "    <tr style=\"text-align: right;\">\n",
              "      <th></th>\n",
              "      <th>Unnamed: 0</th>\n",
              "      <th>index</th>\n",
              "      <th>_type</th>\n",
              "      <th>url</th>\n",
              "      <th>date</th>\n",
              "      <th>content</th>\n",
              "      <th>renderedContent</th>\n",
              "      <th>id</th>\n",
              "      <th>user</th>\n",
              "      <th>replyCount</th>\n",
              "      <th>retweetCount</th>\n",
              "      <th>likeCount</th>\n",
              "      <th>quoteCount</th>\n",
              "      <th>conversationId</th>\n",
              "      <th>lang</th>\n",
              "      <th>source</th>\n",
              "      <th>sourceUrl</th>\n",
              "      <th>sourceLabel</th>\n",
              "      <th>outlinks</th>\n",
              "      <th>tcooutlinks</th>\n",
              "      <th>media</th>\n",
              "      <th>retweetedTweet</th>\n",
              "      <th>quotedTweet</th>\n",
              "      <th>inReplyToTweetId</th>\n",
              "      <th>inReplyToUser</th>\n",
              "      <th>mentionedUsers</th>\n",
              "      <th>coordinates</th>\n",
              "      <th>place</th>\n",
              "      <th>hashtags</th>\n",
              "      <th>cashtags</th>\n",
              "      <th>newcontent</th>\n",
              "      <th>nltk_scores</th>\n",
              "      <th>nltk_cmp_score</th>\n",
              "      <th>nltk_sentiment</th>\n",
              "      <th>tweet_punct</th>\n",
              "      <th>tweet_tokenized</th>\n",
              "      <th>tweet_nonstop</th>\n",
              "      <th>label</th>\n",
              "    </tr>\n",
              "  </thead>\n",
              "  <tbody>\n",
              "    <tr>\n",
              "      <th>0</th>\n",
              "      <td>0</td>\n",
              "      <td>0</td>\n",
              "      <td>snscrape.modules.twitter.Tweet</td>\n",
              "      <td>https://twitter.com/purplgrl5/status/1244776302982451202</td>\n",
              "      <td>2020-03-30 23:59:32</td>\n",
              "      <td>@g Also,  there is flu vaccine every year that only 46% of Americans get and that contributes to the death toll.  You can be sure the people who die from complications of the flu ( mostly from a viral pneumonia like Covid-19) are usually unvaccinated.  So it is highly likely those</td>\n",
              "      <td>@g Also,  there is flu vaccine every year that only 46% of Americans get and that contributes to the death toll.  You can be sure the people who die from complications of the flu ( mostly from a viral pneumonia like Covid-19) are usually unvaccinated.  So it is highly likely those</td>\n",
              "      <td>1244776302982450944</td>\n",
              "      <td>{'_type': 'snscrape.modules.twitter.User', 'username': 'purplgrl5', 'id': 299169696, 'displayname': 'Mask it and Vax it!☮️🇺🇸⚾️👀🐶🐱', 'description': 'political junkie, Cubs fan, music &amp; books keep me going. Retired RN. We must work to restore the political system that actually works 4 America. Right Matters!', 'rawDescription': 'political junkie, Cubs fan, music &amp; books keep me going. Retired RN. We must work to restore the political system that actually works 4 America. Right Matters!', 'descriptionUrls': None, 'verified': False, 'created': '2011-05-15T16:37:02+00:00', 'followersCount': 105, 'friendsCount': 369, 'statusesCount': 5305, 'favouritesCount': 18626, 'listedCount': 0, 'mediaCount': 48, 'location': 'AR.  aka Trumpfrikistan.', 'protected': False, 'linkUrl': None, 'linkTcourl': None, 'profileImageUrl': 'https://pbs.twimg.com/profile_images/1418791230398418949/i02aMq0I_normal.jpg', 'profileBannerUrl': 'https://pbs.twimg.com/profile_banners/299169696/1602771472', 'label': None, 'url': 'https://twitter.com/purplgrl5'}</td>\n",
              "      <td>0</td>\n",
              "      <td>0</td>\n",
              "      <td>1</td>\n",
              "      <td>0</td>\n",
              "      <td>1244459086902710016</td>\n",
              "      <td>en</td>\n",
              "      <td>&lt;a href=\"http://twitter.com/#!/download/ipad\" rel=\"nofollow\"&gt;Twitter for iPad&lt;/a&gt;</td>\n",
              "      <td>http://twitter.com/#!/download/ipad</td>\n",
              "      <td>Twitter for iPad</td>\n",
              "      <td>NaN</td>\n",
              "      <td>NaN</td>\n",
              "      <td>NaN</td>\n",
              "      <td>NaN</td>\n",
              "      <td>NaN</td>\n",
              "      <td>1.244459e+18</td>\n",
              "      <td>{'_type': 'snscrape.modules.twitter.User', 'username': 'g', 'id': 17853751, 'displayname': 'Greg Leding', 'description': None, 'rawDescription': None, 'descriptionUrls': None, 'verified': None, 'created': None, 'followersCount': None, 'friendsCount': None, 'statusesCount': None, 'favouritesCount': None, 'listedCount': None, 'mediaCount': None, 'location': None, 'protected': None, 'linkUrl': None, 'linkTcourl': None, 'profileImageUrl': None, 'profileBannerUrl': None, 'label': None, 'url': 'https://twitter.com/g'}</td>\n",
              "      <td>[{'_type': 'snscrape.modules.twitter.User', 'username': 'g', 'id': 17853751, 'displayname': 'Greg Leding', 'description': None, 'rawDescription': None, 'descriptionUrls': None, 'verified': None, 'created': None, 'followersCount': None, 'friendsCount': None, 'statusesCount': None, 'favouritesCount': None, 'listedCount': None, 'mediaCount': None, 'location': None, 'protected': None, 'linkUrl': None, 'linkTcourl': None, 'profileImageUrl': None, 'profileBannerUrl': None, 'label': None, 'url': 'https://twitter.com/g'}]</td>\n",
              "      <td>NaN</td>\n",
              "      <td>NaN</td>\n",
              "      <td>NaN</td>\n",
              "      <td>NaN</td>\n",
              "      <td>also flu vaccine every year americans get contributes death toll sure people die complications flu mostly viral pneumonia like covid usually unvaccinated highly likely</td>\n",
              "      <td>{'neg': 0.363, 'neu': 0.503, 'pos': 0.134, 'compound': -0.8481}</td>\n",
              "      <td>-0.8481</td>\n",
              "      <td>Negative</td>\n",
              "      <td>also flu vaccine every year americans get contributes death toll sure people die complications flu mostly viral pneumonia like covid usually unvaccinated highly likely</td>\n",
              "      <td>['also', 'flu', 'vaccine', 'every', 'year', 'americans', 'get', 'contributes', 'death', 'toll', 'sure', 'people', 'die', 'complications', 'flu', 'mostly', 'viral', 'pneumonia', 'like', 'covid', 'usually', 'unvaccinated', 'highly', 'likely']</td>\n",
              "      <td>also flu every year americans get contributes death toll sure people die complications flu mostly viral pneumonia like usually unvaccinated highly likely</td>\n",
              "      <td>2</td>\n",
              "    </tr>\n",
              "    <tr>\n",
              "      <th>1</th>\n",
              "      <td>1</td>\n",
              "      <td>1</td>\n",
              "      <td>snscrape.modules.twitter.Tweet</td>\n",
              "      <td>https://twitter.com/scarfizal/status/1244776179921498120</td>\n",
              "      <td>2020-03-30 23:59:02</td>\n",
              "      <td>Coronavirus treatments: Chloroquine, vaccines and the drugs fighting COVID-19 - CNET https://t.co/mBTEjT9uU3</td>\n",
              "      <td>Coronavirus treatments: Chloroquine, vaccines and the drugs fighting COVID-19 - CNET cnet.com/how-to/coronav…</td>\n",
              "      <td>1244776179921498112</td>\n",
              "      <td>{'_type': 'snscrape.modules.twitter.User', 'username': 'scarfizal', 'id': 266102331, 'displayname': 'PATRIOT', 'description': 'PATRIOT works at Federal Ministry of Environment ( environment.gov.ng ) Arsenal &amp; Barcelona fan tweets are my personal opinion (married)', 'rawDescription': 'PATRIOT works at Federal Ministry of Environment ( https://t.co/9zfEAUVyTS ) Arsenal &amp; Barcelona fan tweets are my personal opinion (married)', 'descriptionUrls': [{'text': 'environment.gov.ng', 'url': 'http://environment.gov.ng', 'tcourl': 'https://t.co/9zfEAUVyTS', 'indices': [51, 74]}], 'verified': False, 'created': '2011-03-14T17:19:35+00:00', 'followersCount': 53042, 'friendsCount': 10713, 'statusesCount': 1410950, 'favouritesCount': 671, 'listedCount': 0, 'mediaCount': 8884, 'location': 'Abuja', 'protected': False, 'linkUrl': None, 'linkTcourl': None, 'profileImageUrl': 'https://pbs.twimg.com/profile_images/1392954659522981890/ri8CkDqj_normal.jpg', 'profileBannerUrl': 'https://pbs.twimg.com/profile_banners/266102331/1377764504', 'label': None, 'url': 'https://twitter.com/scarfizal'}</td>\n",
              "      <td>0</td>\n",
              "      <td>1</td>\n",
              "      <td>0</td>\n",
              "      <td>0</td>\n",
              "      <td>1244776179921498112</td>\n",
              "      <td>en</td>\n",
              "      <td>&lt;a href=\"http://twitter.com/download/iphone\" rel=\"nofollow\"&gt;Twitter for iPhone&lt;/a&gt;</td>\n",
              "      <td>http://twitter.com/download/iphone</td>\n",
              "      <td>Twitter for iPhone</td>\n",
              "      <td>['https://www.cnet.com/how-to/coronavirus-treatments-chloroquine-vaccines-and-the-drugs-fighting-covid-19/']</td>\n",
              "      <td>['https://t.co/mBTEjT9uU3']</td>\n",
              "      <td>NaN</td>\n",
              "      <td>NaN</td>\n",
              "      <td>NaN</td>\n",
              "      <td>NaN</td>\n",
              "      <td>NaN</td>\n",
              "      <td>NaN</td>\n",
              "      <td>NaN</td>\n",
              "      <td>NaN</td>\n",
              "      <td>NaN</td>\n",
              "      <td>NaN</td>\n",
              "      <td>coronavirus treatments chloroquine vaccines drugs fighting covid cnet</td>\n",
              "      <td>{'neg': 0.263, 'neu': 0.737, 'pos': 0.0, 'compound': -0.3612}</td>\n",
              "      <td>-0.3612</td>\n",
              "      <td>Negative</td>\n",
              "      <td>coronavirus treatments chloroquine vaccines drugs fighting covid cnet</td>\n",
              "      <td>['coronavirus', 'treatments', 'chloroquine', 'vaccines', 'drugs', 'fighting', 'covid', 'cnet']</td>\n",
              "      <td>coronavirus treatments chloroquine vaccines drugs fighting cnet</td>\n",
              "      <td>2</td>\n",
              "    </tr>\n",
              "    <tr>\n",
              "      <th>2</th>\n",
              "      <td>2</td>\n",
              "      <td>2</td>\n",
              "      <td>snscrape.modules.twitter.Tweet</td>\n",
              "      <td>https://twitter.com/PDBiz33/status/1244776096135925760</td>\n",
              "      <td>2020-03-30 23:58:42</td>\n",
              "      <td>COVID-19 Vaccine has been under our kitchen sinks and noses all along.\\nMembers of the WHO, Townsend and Daltrey confirm Tide PODS are the reason Millennials and Generation Zs are 30 times less likely to die from the virus. https://t.co/k2UaovagPe</td>\n",
              "      <td>COVID-19 Vaccine has been under our kitchen sinks and noses all along.\\nMembers of the WHO, Townsend and Daltrey confirm Tide PODS are the reason Millennials and Generation Zs are 30 times less likely to die from the virus. https://t.co/k2UaovagPe</td>\n",
              "      <td>1244776096135926016</td>\n",
              "      <td>{'_type': 'snscrape.modules.twitter.User', 'username': 'PDBiz33', 'id': 1202746893438029824, 'displayname': 'Elf Machina', 'description': '', 'rawDescription': '', 'descriptionUrls': None, 'verified': False, 'created': '2019-12-06T00:29:47+00:00', 'followersCount': 8, 'friendsCount': 44, 'statusesCount': 773, 'favouritesCount': 113, 'listedCount': 0, 'mediaCount': 106, 'location': '', 'protected': False, 'linkUrl': None, 'linkTcourl': None, 'profileImageUrl': 'https://pbs.twimg.com/profile_images/1317238224192860160/x7ZwslY9_normal.jpg', 'profileBannerUrl': None, 'label': None, 'url': 'https://twitter.com/PDBiz33'}</td>\n",
              "      <td>0</td>\n",
              "      <td>0</td>\n",
              "      <td>0</td>\n",
              "      <td>0</td>\n",
              "      <td>1244776096135926016</td>\n",
              "      <td>en</td>\n",
              "      <td>&lt;a href=\"http://twitter.com/download/android\" rel=\"nofollow\"&gt;Twitter for Android&lt;/a&gt;</td>\n",
              "      <td>http://twitter.com/download/android</td>\n",
              "      <td>Twitter for Android</td>\n",
              "      <td>NaN</td>\n",
              "      <td>NaN</td>\n",
              "      <td>[{'_type': 'snscrape.modules.twitter.Photo', 'previewUrl': 'https://pbs.twimg.com/media/EUZVQuWVAAA72pc?format=jpg&amp;name=small', 'fullUrl': 'https://pbs.twimg.com/media/EUZVQuWVAAA72pc?format=jpg&amp;name=large'}]</td>\n",
              "      <td>NaN</td>\n",
              "      <td>NaN</td>\n",
              "      <td>NaN</td>\n",
              "      <td>NaN</td>\n",
              "      <td>NaN</td>\n",
              "      <td>NaN</td>\n",
              "      <td>NaN</td>\n",
              "      <td>NaN</td>\n",
              "      <td>NaN</td>\n",
              "      <td>covid vaccine kitchen sinks noses along members townsend daltrey confirm tide pods reason millennials generation times less likely die virus</td>\n",
              "      <td>{'neg': 0.16, 'neu': 0.84, 'pos': 0.0, 'compound': -0.5606}</td>\n",
              "      <td>-0.5606</td>\n",
              "      <td>Negative</td>\n",
              "      <td>covid vaccine kitchen sinks noses along members townsend daltrey confirm tide pods reason millennials generation times less likely die virus</td>\n",
              "      <td>['covid', 'vaccine', 'kitchen', 'sinks', 'noses', 'along', 'members', 'townsend', 'daltrey', 'confirm', 'tide', 'pods', 'reason', 'millennials', 'generation', 'times', 'less', 'likely', 'die', 'virus']</td>\n",
              "      <td>kitchen sinks noses along members townsend daltrey confirm tide pods reason millennials generation times less likely die virus</td>\n",
              "      <td>2</td>\n",
              "    </tr>\n",
              "    <tr>\n",
              "      <th>3</th>\n",
              "      <td>3</td>\n",
              "      <td>3</td>\n",
              "      <td>snscrape.modules.twitter.Tweet</td>\n",
              "      <td>https://twitter.com/PDBiz33/status/1244775882780110848</td>\n",
              "      <td>2020-03-30 23:57:51</td>\n",
              "      <td>@barstoolsports @joerogan\\n@bertkreischer \\nCOVID-19 Vaccine has been under our kitchen sinks and noses all along.\\nMembers of the WHO, Townsend and Daltrey confirm Tide PODS are the reason Millennials and Generation Zs are 30 times less likely to die from the virus. https://t.co/nSr8OxJ2X5</td>\n",
              "      <td>@barstoolsports @joerogan\\n@bertkreischer \\nCOVID-19 Vaccine has been under our kitchen sinks and noses all along.\\nMembers of the WHO, Townsend and Daltrey confirm Tide PODS are the reason Millennials and Generation Zs are 30 times less likely to die from the virus. https://t.co/nSr8OxJ2X5</td>\n",
              "      <td>1244775882780111104</td>\n",
              "      <td>{'_type': 'snscrape.modules.twitter.User', 'username': 'PDBiz33', 'id': 1202746893438029824, 'displayname': 'Elf Machina', 'description': '', 'rawDescription': '', 'descriptionUrls': None, 'verified': False, 'created': '2019-12-06T00:29:47+00:00', 'followersCount': 8, 'friendsCount': 44, 'statusesCount': 773, 'favouritesCount': 113, 'listedCount': 0, 'mediaCount': 106, 'location': '', 'protected': False, 'linkUrl': None, 'linkTcourl': None, 'profileImageUrl': 'https://pbs.twimg.com/profile_images/1317238224192860160/x7ZwslY9_normal.jpg', 'profileBannerUrl': None, 'label': None, 'url': 'https://twitter.com/PDBiz33'}</td>\n",
              "      <td>0</td>\n",
              "      <td>0</td>\n",
              "      <td>0</td>\n",
              "      <td>0</td>\n",
              "      <td>1244775882780111104</td>\n",
              "      <td>en</td>\n",
              "      <td>&lt;a href=\"http://twitter.com/download/android\" rel=\"nofollow\"&gt;Twitter for Android&lt;/a&gt;</td>\n",
              "      <td>http://twitter.com/download/android</td>\n",
              "      <td>Twitter for Android</td>\n",
              "      <td>NaN</td>\n",
              "      <td>NaN</td>\n",
              "      <td>[{'_type': 'snscrape.modules.twitter.Photo', 'previewUrl': 'https://pbs.twimg.com/media/EUZVES_UEAAwcHv?format=jpg&amp;name=small', 'fullUrl': 'https://pbs.twimg.com/media/EUZVES_UEAAwcHv?format=jpg&amp;name=large'}]</td>\n",
              "      <td>NaN</td>\n",
              "      <td>NaN</td>\n",
              "      <td>NaN</td>\n",
              "      <td>NaN</td>\n",
              "      <td>[{'_type': 'snscrape.modules.twitter.User', 'username': 'barstoolsports', 'id': 22637974, 'displayname': 'Barstool Sports', 'description': None, 'rawDescription': None, 'descriptionUrls': None, 'verified': None, 'created': None, 'followersCount': None, 'friendsCount': None, 'statusesCount': None, 'favouritesCount': None, 'listedCount': None, 'mediaCount': None, 'location': None, 'protected': None, 'linkUrl': None, 'linkTcourl': None, 'profileImageUrl': None, 'profileBannerUrl': None, 'label': None, 'url': 'https://twitter.com/barstoolsports'}, {'_type': 'snscrape.modules.twitter.User', 'username': 'joerogan', 'id': 18208354, 'displayname': 'Joe Rogan', 'description': None, 'rawDescription': None, 'descriptionUrls': None, 'verified': None, 'created': None, 'followersCount': None, 'friendsCount': None, 'statusesCount': None, 'favouritesCount': None, 'listedCount': None, 'mediaCount': None, 'location': None, 'protected': None, 'linkUrl': None, 'linkTcourl': None, 'profileImageUrl': None, 'profileBannerUrl': None, 'label': None, 'url': 'https://twitter.com/joerogan'}, {'_type': 'snscrape.modules.twitter.User', 'username': 'bertkreischer', 'id': 17953972, 'displayname': 'bert kreischer', 'description': None, 'rawDescription': None, 'descriptionUrls': None, 'verified': None, 'created': None, 'followersCount': None, 'friendsCount': None, 'statusesCount': None, 'favouritesCount': None, 'listedCount': None, 'mediaCount': None, 'location': None, 'protected': None, 'linkUrl': None, 'linkTcourl': None, 'profileImageUrl': None, 'profileBannerUrl': None, 'label': None, 'url': 'https://twitter.com/bertkreischer'}]</td>\n",
              "      <td>NaN</td>\n",
              "      <td>NaN</td>\n",
              "      <td>NaN</td>\n",
              "      <td>NaN</td>\n",
              "      <td>covid vaccine kitchen sinks noses along members townsend daltrey confirm tide pods reason millennials generation times less likely die virus</td>\n",
              "      <td>{'neg': 0.16, 'neu': 0.84, 'pos': 0.0, 'compound': -0.5606}</td>\n",
              "      <td>-0.5606</td>\n",
              "      <td>Negative</td>\n",
              "      <td>covid vaccine kitchen sinks noses along members townsend daltrey confirm tide pods reason millennials generation times less likely die virus</td>\n",
              "      <td>['covid', 'vaccine', 'kitchen', 'sinks', 'noses', 'along', 'members', 'townsend', 'daltrey', 'confirm', 'tide', 'pods', 'reason', 'millennials', 'generation', 'times', 'less', 'likely', 'die', 'virus']</td>\n",
              "      <td>kitchen sinks noses along members townsend daltrey confirm tide pods reason millennials generation times less likely die virus</td>\n",
              "      <td>2</td>\n",
              "    </tr>\n",
              "    <tr>\n",
              "      <th>4</th>\n",
              "      <td>4</td>\n",
              "      <td>4</td>\n",
              "      <td>snscrape.modules.twitter.Tweet</td>\n",
              "      <td>https://twitter.com/citrusstudios/status/1244775341694029824</td>\n",
              "      <td>2020-03-30 23:55:42</td>\n",
              "      <td>Coronavirus (Covid-19)\\n\\nSteps to Prevent Illness\\nThere is currently no vaccine to prevent coronavirus disease in 2019 (COVID-19).\\n\\nThe best way to prevent illness is to avoid being exposed to this virus.\\n\\nRead more (link below) \\nhttps://t.co/mbh0abdzMZ\\n\\n#coronavirus #covid19 https://t.co/PSdUokQGz3</td>\n",
              "      <td>Coronavirus (Covid-19)\\n\\nSteps to Prevent Illness\\nThere is currently no vaccine to prevent coronavirus disease in 2019 (COVID-19).\\n\\nThe best way to prevent illness is to avoid being exposed to this virus.\\n\\nRead more (link below) \\ncitrusstudios.com/coronavirus-co…\\n\\n#coronavirus #covid19 https://t.co/PSdUokQGz3</td>\n",
              "      <td>1244775341694030080</td>\n",
              "      <td>{'_type': 'snscrape.modules.twitter.User', 'username': 'citrusstudios', 'id': 21893626, 'displayname': 'citrus studios', 'description': 'We are a branding agency located in Santa Monica, CA.', 'rawDescription': 'We are a branding agency located in Santa Monica, CA.', 'descriptionUrls': None, 'verified': False, 'created': '2009-02-25T17:48:53+00:00', 'followersCount': 934, 'friendsCount': 929, 'statusesCount': 1479, 'favouritesCount': 1095, 'listedCount': 0, 'mediaCount': 409, 'location': '', 'protected': False, 'linkUrl': 'http://www.citrusstudios.com', 'linkTcourl': 'https://t.co/K09t3jx3yD', 'profileImageUrl': 'https://pbs.twimg.com/profile_images/1316118716019470336/zV7gTXVV_normal.jpg', 'profileBannerUrl': 'https://pbs.twimg.com/profile_banners/21893626/1605858421', 'label': None, 'url': 'https://twitter.com/citrusstudios'}</td>\n",
              "      <td>0</td>\n",
              "      <td>0</td>\n",
              "      <td>3</td>\n",
              "      <td>0</td>\n",
              "      <td>1244775341694030080</td>\n",
              "      <td>en</td>\n",
              "      <td>&lt;a href=\"https://www.later.com\" rel=\"nofollow\"&gt;LaterMedia&lt;/a&gt;</td>\n",
              "      <td>https://www.later.com</td>\n",
              "      <td>LaterMedia</td>\n",
              "      <td>['https://www.citrusstudios.com/coronavirus-covid-19/']</td>\n",
              "      <td>['https://t.co/mbh0abdzMZ']</td>\n",
              "      <td>[{'_type': 'snscrape.modules.twitter.Photo', 'previewUrl': 'https://pbs.twimg.com/media/EUZUc0CWkAA8LTl?format=jpg&amp;name=small', 'fullUrl': 'https://pbs.twimg.com/media/EUZUc0CWkAA8LTl?format=jpg&amp;name=large'}]</td>\n",
              "      <td>NaN</td>\n",
              "      <td>NaN</td>\n",
              "      <td>NaN</td>\n",
              "      <td>NaN</td>\n",
              "      <td>NaN</td>\n",
              "      <td>NaN</td>\n",
              "      <td>NaN</td>\n",
              "      <td>['coronavirus', 'covid19']</td>\n",
              "      <td>NaN</td>\n",
              "      <td>coronavirus covid steps prevent illness currently vaccine prevent coronavirus disease covid best way prevent illness avoid exposed virus read link</td>\n",
              "      <td>{'neg': 0.313, 'neu': 0.423, 'pos': 0.264, 'compound': -0.34}</td>\n",
              "      <td>-0.3400</td>\n",
              "      <td>Negative</td>\n",
              "      <td>coronavirus covid steps prevent illness currently vaccine prevent coronavirus disease covid best way prevent illness avoid exposed virus read link</td>\n",
              "      <td>['coronavirus', 'covid', 'steps', 'prevent', 'illness', 'currently', 'vaccine', 'prevent', 'coronavirus', 'disease', 'covid', 'best', 'way', 'prevent', 'illness', 'avoid', 'exposed', 'virus', 'read', 'link']</td>\n",
              "      <td>coronavirus steps prevent illness currently prevent coronavirus disease best way prevent illness avoid exposed virus read link</td>\n",
              "      <td>2</td>\n",
              "    </tr>\n",
              "    <tr>\n",
              "      <th>...</th>\n",
              "      <td>...</td>\n",
              "      <td>...</td>\n",
              "      <td>...</td>\n",
              "      <td>...</td>\n",
              "      <td>...</td>\n",
              "      <td>...</td>\n",
              "      <td>...</td>\n",
              "      <td>...</td>\n",
              "      <td>...</td>\n",
              "      <td>...</td>\n",
              "      <td>...</td>\n",
              "      <td>...</td>\n",
              "      <td>...</td>\n",
              "      <td>...</td>\n",
              "      <td>...</td>\n",
              "      <td>...</td>\n",
              "      <td>...</td>\n",
              "      <td>...</td>\n",
              "      <td>...</td>\n",
              "      <td>...</td>\n",
              "      <td>...</td>\n",
              "      <td>...</td>\n",
              "      <td>...</td>\n",
              "      <td>...</td>\n",
              "      <td>...</td>\n",
              "      <td>...</td>\n",
              "      <td>...</td>\n",
              "      <td>...</td>\n",
              "      <td>...</td>\n",
              "      <td>...</td>\n",
              "      <td>...</td>\n",
              "      <td>...</td>\n",
              "      <td>...</td>\n",
              "      <td>...</td>\n",
              "      <td>...</td>\n",
              "      <td>...</td>\n",
              "      <td>...</td>\n",
              "      <td>...</td>\n",
              "    </tr>\n",
              "    <tr>\n",
              "      <th>17995</th>\n",
              "      <td>17995</td>\n",
              "      <td>17995</td>\n",
              "      <td>snscrape.modules.twitter.Tweet</td>\n",
              "      <td>https://twitter.com/rmchavin/status/1432460697577816064</td>\n",
              "      <td>2021-08-30 21:50:18</td>\n",
              "      <td>8-29-2021:  Putin sends another 50,000 doses of Gamaleya's Sputnik V to Venezuela.  Sputnik V was praised by Hungary as being their favorite COVID-19 vaccine but a new study from Mongolia concluded that Sputnik V generated an inferior antibody response:\\nhttps://t.co/QAI0HCnlEt</td>\n",
              "      <td>8-29-2021:  Putin sends another 50,000 doses of Gamaleya's Sputnik V to Venezuela.  Sputnik V was praised by Hungary as being their favorite COVID-19 vaccine but a new study from Mongolia concluded that Sputnik V generated an inferior antibody response:\\ntranslate.google.com/translate?hl=e…</td>\n",
              "      <td>1432460697577816064</td>\n",
              "      <td>{'_type': 'snscrape.modules.twitter.User', 'username': 'rmchavin', 'id': 3268963694, 'displayname': 'Ronald M. Chavin', 'description': 'bassoon player, chess player, fish eater, onion eater, soy yogurt eater, mustard seed eater, green tea &amp; cocoa drinker, sugar &amp; salt avoider, Neu5Gc avoider', 'rawDescription': 'bassoon player, chess player, fish eater, onion eater, soy yogurt eater, mustard seed eater, green tea &amp; cocoa drinker, sugar &amp; salt avoider, Neu5Gc avoider', 'descriptionUrls': None, 'verified': False, 'created': '2015-07-05T10:21:54+00:00', 'followersCount': 45, 'friendsCount': 0, 'statusesCount': 5466, 'favouritesCount': 0, 'listedCount': 0, 'mediaCount': 760, 'location': 'Honolulu, HI', 'protected': False, 'linkUrl': 'https://twitter.com/rmchavin', 'linkTcourl': 'https://t.co/SuAIHVvbQO', 'profileImageUrl': 'https://pbs.twimg.com/profile_images/1248840428054429697/DuZSHT8k_normal.png', 'profileBannerUrl': 'https://pbs.twimg.com/profile_banners/3268963694/1586656062', 'label': None, 'url': 'https://twitter.com/rmchavin'}</td>\n",
              "      <td>0</td>\n",
              "      <td>0</td>\n",
              "      <td>0</td>\n",
              "      <td>0</td>\n",
              "      <td>1432460697577816064</td>\n",
              "      <td>en</td>\n",
              "      <td>&lt;a href=\"https://mobile.twitter.com\" rel=\"nofollow\"&gt;Twitter Web App&lt;/a&gt;</td>\n",
              "      <td>https://mobile.twitter.com</td>\n",
              "      <td>Twitter Web App</td>\n",
              "      <td>['https://translate.google.com/translate?hl=en&amp;sl=es&amp;u=https://www.caraotadigital.net/nacionales/llego-segunda-dosis-de-la-sputnik-v-a-venezuela-pero-son-pocas&amp;prev=search&amp;pto=aue']</td>\n",
              "      <td>['https://t.co/QAI0HCnlEt']</td>\n",
              "      <td>NaN</td>\n",
              "      <td>NaN</td>\n",
              "      <td>NaN</td>\n",
              "      <td>NaN</td>\n",
              "      <td>NaN</td>\n",
              "      <td>NaN</td>\n",
              "      <td>NaN</td>\n",
              "      <td>NaN</td>\n",
              "      <td>NaN</td>\n",
              "      <td>NaN</td>\n",
              "      <td>putin sends another doses gamaleya sputnik venezuela sputnik praised hungary favorite covid vaccine new study mongolia concluded sputnik generated inferior antibody response</td>\n",
              "      <td>{'neg': 0.097, 'neu': 0.681, 'pos': 0.222, 'compound': 0.5423}</td>\n",
              "      <td>0.5423</td>\n",
              "      <td>Positive</td>\n",
              "      <td>putin sends another doses gamaleya sputnik venezuela sputnik praised hungary favorite covid vaccine new study mongolia concluded sputnik generated inferior antibody response</td>\n",
              "      <td>['putin', 'sends', 'another', 'doses', 'gamaleya', 'sputnik', 'venezuela', 'sputnik', 'praised', 'hungary', 'favorite', 'covid', 'vaccine', 'new', 'study', 'mongolia', 'concluded', 'sputnik', 'generated', 'inferior', 'antibody', 'response']</td>\n",
              "      <td>putin sends another doses gamaleya sputnik venezuela sputnik praised hungary favorite new study mongolia concluded sputnik generated inferior antibody response</td>\n",
              "      <td>1</td>\n",
              "    </tr>\n",
              "    <tr>\n",
              "      <th>17996</th>\n",
              "      <td>17996</td>\n",
              "      <td>17996</td>\n",
              "      <td>snscrape.modules.twitter.Tweet</td>\n",
              "      <td>https://twitter.com/Labor_Law/status/1432460669207515137</td>\n",
              "      <td>2021-08-30 21:50:12</td>\n",
              "      <td>Will They or Won’t They? California Lawmakers Contemplate Workplace COVID-19 Vaccine Mandate https://t.co/3vFabvt032 | by @labor_attorneys</td>\n",
              "      <td>Will They or Won’t They? California Lawmakers Contemplate Workplace COVID-19 Vaccine Mandate jdsupra.com/legalnews/will… | by @labor_attorneys</td>\n",
              "      <td>1432460669207514880</td>\n",
              "      <td>{'_type': 'snscrape.modules.twitter.User', 'username': 'Labor_Law', 'id': 17451055, 'displayname': 'Employment Law News', 'description': 'News and commentary on latest legal developments impacting the workplace. Covers: NLRB, HR, EEOC, social media, discrimination, and much more. A @JDSupra feed.', 'rawDescription': 'News and commentary on latest legal developments impacting the workplace. Covers: NLRB, HR, EEOC, social media, discrimination, and much more. A @JDSupra feed.', 'descriptionUrls': None, 'verified': False, 'created': '2008-11-17T21:25:01+00:00', 'followersCount': 17229, 'friendsCount': 2109, 'statusesCount': 110818, 'favouritesCount': 1, 'listedCount': 493, 'mediaCount': 2, 'location': 'JDSupra.com', 'protected': False, 'linkUrl': 'http://www.jdsupra.com/law-news/labor-employment/', 'linkTcourl': 'http://t.co/hzbUKwl2q5', 'profileImageUrl': 'https://pbs.twimg.com/profile_images/378800000120698425/bc4a091a4bade16a9eada03c3df2670f_normal.png', 'profileBannerUrl': 'https://pbs.twimg.com/profile_banners/17451055/1441685997', 'label': None, 'url': 'https://twitter.com/Labor_Law'}</td>\n",
              "      <td>0</td>\n",
              "      <td>1</td>\n",
              "      <td>2</td>\n",
              "      <td>0</td>\n",
              "      <td>1432460669207514880</td>\n",
              "      <td>en</td>\n",
              "      <td>&lt;a href=\"https://www.jdsupra.com\" rel=\"nofollow\"&gt;jdsupra&lt;/a&gt;</td>\n",
              "      <td>https://www.jdsupra.com</td>\n",
              "      <td>jdsupra</td>\n",
              "      <td>['https://www.jdsupra.com/legalnews/will-they-or-won-t-they-california-3534018/']</td>\n",
              "      <td>['https://t.co/3vFabvt032']</td>\n",
              "      <td>NaN</td>\n",
              "      <td>NaN</td>\n",
              "      <td>NaN</td>\n",
              "      <td>NaN</td>\n",
              "      <td>NaN</td>\n",
              "      <td>[{'_type': 'snscrape.modules.twitter.User', 'username': 'labor_attorneys', 'id': 60966128, 'displayname': 'Fisher Phillips', 'description': None, 'rawDescription': None, 'descriptionUrls': None, 'verified': None, 'created': None, 'followersCount': None, 'friendsCount': None, 'statusesCount': None, 'favouritesCount': None, 'listedCount': None, 'mediaCount': None, 'location': None, 'protected': None, 'linkUrl': None, 'linkTcourl': None, 'profileImageUrl': None, 'profileBannerUrl': None, 'label': None, 'url': 'https://twitter.com/labor_attorneys'}]</td>\n",
              "      <td>NaN</td>\n",
              "      <td>NaN</td>\n",
              "      <td>NaN</td>\n",
              "      <td>NaN</td>\n",
              "      <td>california lawmakers contemplate workplace covid vaccine mandate</td>\n",
              "      <td>{'neg': 0.0, 'neu': 1.0, 'pos': 0.0, 'compound': 0.0}</td>\n",
              "      <td>0.0000</td>\n",
              "      <td>Neutral</td>\n",
              "      <td>california lawmakers contemplate workplace covid vaccine mandate</td>\n",
              "      <td>['california', 'lawmakers', 'contemplate', 'workplace', 'covid', 'vaccine', 'mandate']</td>\n",
              "      <td>california lawmakers contemplate workplace mandate</td>\n",
              "      <td>0</td>\n",
              "    </tr>\n",
              "    <tr>\n",
              "      <th>17997</th>\n",
              "      <td>17997</td>\n",
              "      <td>17997</td>\n",
              "      <td>snscrape.modules.twitter.Tweet</td>\n",
              "      <td>https://twitter.com/DeschutesCounty/status/1432460626203381766</td>\n",
              "      <td>2021-08-30 21:50:01</td>\n",
              "      <td>We know your time is valuable. When you get your COVID-19 vaccine at a Deschutes County Health Services Vaccine Clinic, you’ll receive a $50 VISA gift card. Available tomorrow at the La Pine Library from 1:00 - 3:00 p.m.\\n\\nFor more information, visit https://t.co/jNsCMAB0sk https://t.co/GXN3sTLUJY</td>\n",
              "      <td>We know your time is valuable. When you get your COVID-19 vaccine at a Deschutes County Health Services Vaccine Clinic, you’ll receive a $50 VISA gift card. Available tomorrow at the La Pine Library from 1:00 - 3:00 p.m.\\n\\nFor more information, visit bit.ly/3sfM0Ex https://t.co/GXN3sTLUJY</td>\n",
              "      <td>1432460626203382016</td>\n",
              "      <td>{'_type': 'snscrape.modules.twitter.User', 'username': 'DeschutesCounty', 'id': 32476970, 'displayname': 'Deschutes County', 'description': 'Official Twitter account of Deschutes County Government | Tweets not monitored 24/7 |', 'rawDescription': 'Official Twitter account of Deschutes County Government | Tweets not monitored 24/7 |', 'descriptionUrls': None, 'verified': True, 'created': '2009-04-17T16:54:10+00:00', 'followersCount': 7749, 'friendsCount': 150, 'statusesCount': 2665, 'favouritesCount': 152, 'listedCount': 139, 'mediaCount': 1202, 'location': 'Bend, Oregon', 'protected': False, 'linkUrl': 'http://www.deschutes.org', 'linkTcourl': 'https://t.co/DPTeyNGe4S', 'profileImageUrl': 'https://pbs.twimg.com/profile_images/970737298210869248/OcBxl8Sf_normal.jpg', 'profileBannerUrl': 'https://pbs.twimg.com/profile_banners/32476970/1624477975', 'label': None, 'url': 'https://twitter.com/DeschutesCounty'}</td>\n",
              "      <td>2</td>\n",
              "      <td>0</td>\n",
              "      <td>4</td>\n",
              "      <td>0</td>\n",
              "      <td>1432460626203382016</td>\n",
              "      <td>en</td>\n",
              "      <td>&lt;a href=\"https://sproutsocial.com\" rel=\"nofollow\"&gt;Sprout Social&lt;/a&gt;</td>\n",
              "      <td>https://sproutsocial.com</td>\n",
              "      <td>Sprout Social</td>\n",
              "      <td>['https://bit.ly/3sfM0Ex']</td>\n",
              "      <td>['https://t.co/jNsCMAB0sk']</td>\n",
              "      <td>[{'_type': 'snscrape.modules.twitter.Photo', 'previewUrl': 'https://pbs.twimg.com/media/E-EfWOBXMAE1_jF?format=jpg&amp;name=small', 'fullUrl': 'https://pbs.twimg.com/media/E-EfWOBXMAE1_jF?format=jpg&amp;name=large'}]</td>\n",
              "      <td>NaN</td>\n",
              "      <td>NaN</td>\n",
              "      <td>NaN</td>\n",
              "      <td>NaN</td>\n",
              "      <td>NaN</td>\n",
              "      <td>NaN</td>\n",
              "      <td>NaN</td>\n",
              "      <td>NaN</td>\n",
              "      <td>NaN</td>\n",
              "      <td>know time valuable get covid vaccine deschutes county health services vaccine clinic receive visa gift card available tomorrow pine library information visit</td>\n",
              "      <td>{'neg': 0.0, 'neu': 0.769, 'pos': 0.231, 'compound': 0.7184}</td>\n",
              "      <td>0.7184</td>\n",
              "      <td>Positive</td>\n",
              "      <td>know time valuable get covid vaccine deschutes county health services vaccine clinic receive visa gift card available tomorrow pine library information visit</td>\n",
              "      <td>['know', 'time', 'valuable', 'get', 'covid', 'vaccine', 'deschutes', 'county', 'health', 'services', 'vaccine', 'clinic', 'receive', 'visa', 'gift', 'card', 'available', 'tomorrow', 'pine', 'library', 'information', 'visit']</td>\n",
              "      <td>know time valuable get deschutes county health services clinic receive visa gift card available tomorrow pine library information visit</td>\n",
              "      <td>1</td>\n",
              "    </tr>\n",
              "    <tr>\n",
              "      <th>17998</th>\n",
              "      <td>17998</td>\n",
              "      <td>17998</td>\n",
              "      <td>snscrape.modules.twitter.Tweet</td>\n",
              "      <td>https://twitter.com/nationworldnews/status/1432460561959243777</td>\n",
              "      <td>2021-08-30 21:49:46</td>\n",
              "      <td>Quebec Ministry of Health recommends third dose of COVID 19 vaccine for immunodeficiency patients https://t.co/A1AoigGrpP</td>\n",
              "      <td>Quebec Ministry of Health recommends third dose of COVID 19 vaccine for immunodeficiency patients nationworldnews.com/quebec-ministr…</td>\n",
              "      <td>1432460561959244032</td>\n",
              "      <td>{'_type': 'snscrape.modules.twitter.User', 'username': 'nationworldnews', 'id': 1313511712939626499, 'displayname': 'Nation World News', 'description': 'Nation World News provides latest breaking news update of the world top stories, science news, entertainment sports cricket latest discoveries new and more', 'rawDescription': 'Nation World News provides latest breaking news update of the world top stories, science news, entertainment sports cricket latest discoveries new and more', 'descriptionUrls': None, 'verified': False, 'created': '2020-10-06T16:09:39+00:00', 'followersCount': 36, 'friendsCount': 18, 'statusesCount': 17445, 'favouritesCount': 3, 'listedCount': 1, 'mediaCount': 9, 'location': '', 'protected': False, 'linkUrl': 'https://nationworldnews.com/', 'linkTcourl': 'https://t.co/8vObsSITld', 'profileImageUrl': 'https://pbs.twimg.com/profile_images/1313511840341610497/YSYAZtn2_normal.jpg', 'profileBannerUrl': 'https://pbs.twimg.com/profile_banners/1313511712939626499/1602001060', 'label': None, 'url': 'https://twitter.com/nationworldnews'}</td>\n",
              "      <td>0</td>\n",
              "      <td>0</td>\n",
              "      <td>0</td>\n",
              "      <td>0</td>\n",
              "      <td>1432460561959244032</td>\n",
              "      <td>en</td>\n",
              "      <td>&lt;a href=\"http://publicize.wp.com/\" rel=\"nofollow\"&gt;WordPress.com&lt;/a&gt;</td>\n",
              "      <td>http://publicize.wp.com/</td>\n",
              "      <td>WordPress.com</td>\n",
              "      <td>['https://nationworldnews.com/quebec-ministry-of-health-recommends-third-dose-of-covid-19-vaccine-for-immunodeficiency-patients/']</td>\n",
              "      <td>['https://t.co/A1AoigGrpP']</td>\n",
              "      <td>NaN</td>\n",
              "      <td>NaN</td>\n",
              "      <td>NaN</td>\n",
              "      <td>NaN</td>\n",
              "      <td>NaN</td>\n",
              "      <td>NaN</td>\n",
              "      <td>NaN</td>\n",
              "      <td>NaN</td>\n",
              "      <td>NaN</td>\n",
              "      <td>NaN</td>\n",
              "      <td>quebec ministry health recommends third dose covid vaccine immunodeficiency patients</td>\n",
              "      <td>{'neg': 0.0, 'neu': 0.826, 'pos': 0.174, 'compound': 0.2263}</td>\n",
              "      <td>0.2263</td>\n",
              "      <td>Positive</td>\n",
              "      <td>quebec ministry health recommends third dose covid vaccine immunodeficiency patients</td>\n",
              "      <td>['quebec', 'ministry', 'health', 'recommends', 'third', 'dose', 'covid', 'vaccine', 'immunodeficiency', 'patients']</td>\n",
              "      <td>quebec ministry health recommends third dose immunodeficiency patients</td>\n",
              "      <td>1</td>\n",
              "    </tr>\n",
              "    <tr>\n",
              "      <th>17999</th>\n",
              "      <td>17999</td>\n",
              "      <td>17999</td>\n",
              "      <td>snscrape.modules.twitter.Tweet</td>\n",
              "      <td>https://twitter.com/CathBird5/status/1432460561032179712</td>\n",
              "      <td>2021-08-30 21:49:46</td>\n",
              "      <td>Australians, Please sign the petition on Aust Gov website to stop Covid Vaccines for Children 12-16 \\n(CLOSES September 1st - tomorrow) \\n\\nPetition EN3046 - Immediately Stop COVID-19 Vaccines for children aged 12-16\\n\\n https://t.co/kVuzqBmH39</td>\n",
              "      <td>Australians, Please sign the petition on Aust Gov website to stop Covid Vaccines for Children 12-16 \\n(CLOSES September 1st - tomorrow) \\n\\nPetition EN3046 - Immediately Stop COVID-19 Vaccines for children aged 12-16\\n\\n aph.gov.au/e-petitions/pe…</td>\n",
              "      <td>1432460561032179968</td>\n",
              "      <td>{'_type': 'snscrape.modules.twitter.User', 'username': 'CathBird5', 'id': 1254699682850201602, 'displayname': '👁🇦🇺👁AusBirdie👁🇦🇺👁', 'description': 'My grandchildren deserve choices &amp; freedom &amp; adventures &amp; love &amp; risks &amp; mistakes &amp; wins &amp; losses &amp; health &amp; illness &amp; chances &amp; fairness &amp; truth &amp; justice.', 'rawDescription': 'My grandchildren deserve choices &amp; freedom &amp; adventures &amp; love &amp; risks &amp; mistakes &amp; wins &amp; losses &amp; health &amp; illness &amp; chances &amp; fairness &amp; truth &amp; justice.', 'descriptionUrls': None, 'verified': False, 'created': '2020-04-27T09:12:06+00:00', 'followersCount': 2987, 'friendsCount': 3002, 'statusesCount': 28159, 'favouritesCount': 132875, 'listedCount': 2, 'mediaCount': 823, 'location': 'Dystopia', 'protected': False, 'linkUrl': None, 'linkTcourl': None, 'profileImageUrl': 'https://pbs.twimg.com/profile_images/1406070685730889731/spKRV4_n_normal.jpg', 'profileBannerUrl': 'https://pbs.twimg.com/profile_banners/1254699682850201602/1593093659', 'label': None, 'url': 'https://twitter.com/CathBird5'}</td>\n",
              "      <td>0</td>\n",
              "      <td>2</td>\n",
              "      <td>5</td>\n",
              "      <td>0</td>\n",
              "      <td>1432460561032179968</td>\n",
              "      <td>en</td>\n",
              "      <td>&lt;a href=\"https://mobile.twitter.com\" rel=\"nofollow\"&gt;Twitter Web App&lt;/a&gt;</td>\n",
              "      <td>https://mobile.twitter.com</td>\n",
              "      <td>Twitter Web App</td>\n",
              "      <td>['https://aph.gov.au/e-petitions/petition/EN3046?fbclid=IwAR3ehNbXikDOEh7Uln7XZB3VvS7ZRSAbfO0_n2lNaMTwejPIacHezUAPCJI']</td>\n",
              "      <td>['https://t.co/kVuzqBmH39']</td>\n",
              "      <td>NaN</td>\n",
              "      <td>NaN</td>\n",
              "      <td>NaN</td>\n",
              "      <td>NaN</td>\n",
              "      <td>NaN</td>\n",
              "      <td>NaN</td>\n",
              "      <td>NaN</td>\n",
              "      <td>NaN</td>\n",
              "      <td>NaN</td>\n",
              "      <td>NaN</td>\n",
              "      <td>australians please sign petition aust gov website stop covid vaccines children closes september tomorrow petition immediately stop covid vaccines children aged</td>\n",
              "      <td>{'neg': 0.178, 'neu': 0.729, 'pos': 0.093, 'compound': -0.2732}</td>\n",
              "      <td>-0.2732</td>\n",
              "      <td>Negative</td>\n",
              "      <td>australians please sign petition aust gov website stop covid vaccines children closes september tomorrow petition immediately stop covid vaccines children aged</td>\n",
              "      <td>['australians', 'please', 'sign', 'petition', 'aust', 'gov', 'website', 'stop', 'covid', 'vaccines', 'children', 'closes', 'september', 'tomorrow', 'petition', 'immediately', 'stop', 'covid', 'vaccines', 'children', 'aged']</td>\n",
              "      <td>australians please sign petition aust gov website stop vaccines children closes september tomorrow petition immediately stop vaccines children aged</td>\n",
              "      <td>2</td>\n",
              "    </tr>\n",
              "  </tbody>\n",
              "</table>\n",
              "<p>18000 rows × 38 columns</p>\n",
              "</div>"
            ],
            "text/plain": [
              "       Unnamed: 0  ...  label\n",
              "0      0           ...  2    \n",
              "1      1           ...  2    \n",
              "2      2           ...  2    \n",
              "3      3           ...  2    \n",
              "4      4           ...  2    \n",
              "...   ..           ... ..    \n",
              "17995  17995       ...  1    \n",
              "17996  17996       ...  0    \n",
              "17997  17997       ...  1    \n",
              "17998  17998       ...  1    \n",
              "17999  17999       ...  2    \n",
              "\n",
              "[18000 rows x 38 columns]"
            ]
          },
          "metadata": {},
          "execution_count": 30
        }
      ]
    },
    {
      "cell_type": "code",
      "metadata": {
        "id": "Ac6OL7Eeam7e"
      },
      "source": [
        "df2 = df[['tweet_nonstop','label']]\n"
      ],
      "execution_count": 31,
      "outputs": []
    },
    {
      "cell_type": "code",
      "metadata": {
        "id": "MWOI7hyVajAM"
      },
      "source": [
        "df3=df2.sample(5000)"
      ],
      "execution_count": 32,
      "outputs": []
    },
    {
      "cell_type": "code",
      "metadata": {
        "id": "p7jGZZ4VajIA"
      },
      "source": [
        "df3.dropna(inplace=True)"
      ],
      "execution_count": 33,
      "outputs": []
    },
    {
      "cell_type": "code",
      "metadata": {
        "id": "mKjTvm_8z_UO"
      },
      "source": [
        "new_df = dict(df3[['tweet_nonstop', 'label']].values)\n"
      ],
      "execution_count": 34,
      "outputs": []
    },
    {
      "cell_type": "code",
      "metadata": {
        "colab": {
          "base_uri": "https://localhost:8080/",
          "height": 380
        },
        "id": "sfawcj5wajK5",
        "outputId": "2c3971b0-644d-4484-e129-d7235558c4e2"
      },
      "source": [
        "import matplotlib.pyplot as plt\n",
        "fig = plt.figure(figsize=(8,6))\n",
        "df3.groupby('label').tweet_nonstop.count().plot.bar(ylim=0)\n",
        "plt.show()"
      ],
      "execution_count": 35,
      "outputs": [
        {
          "output_type": "display_data",
          "data": {
            "image/png": "[encoded data removed]",
            "text/plain": [
              "<Figure size 576x432 with 1 Axes>"
            ]
          },
          "metadata": {}
        }
      ]
    },
    {
      "cell_type": "code",
      "metadata": {
        "colab": {
          "base_uri": "https://localhost:8080/"
        },
        "id": "BIYVZ-I-ajNg",
        "outputId": "aeed6d45-6d1d-4fec-b51e-3d5a9e5408dc"
      },
      "source": [
        "from sklearn.feature_extraction.text import TfidfVectorizer\n",
        "tfidf = TfidfVectorizer(sublinear_tf=True, min_df=3, norm='l2', encoding='latin-1', ngram_range=(1, 3), stop_words='english')\n",
        "features = tfidf.fit_transform(df3.tweet_nonstop).toarray()\n",
        "label = df3.label\n",
        "features.shape"
      ],
      "execution_count": 36,
      "outputs": [
        {
          "output_type": "execute_result",
          "data": {
            "text/plain": [
              "(4955, 6431)"
            ]
          },
          "metadata": {},
          "execution_count": 36
        }
      ]
    },
    {
      "cell_type": "code",
      "metadata": {
        "colab": {
          "base_uri": "https://localhost:8080/"
        },
        "id": "jmXKExJUajQG",
        "outputId": "afc540bb-e1d4-4f2d-de07-7e401d1e7408"
      },
      "source": [
        "features"
      ],
      "execution_count": 37,
      "outputs": [
        {
          "output_type": "execute_result",
          "data": {
            "text/plain": [
              "array([[0., 0., 0., ..., 0., 0., 0.],\n",
              "       [0., 0., 0., ..., 0., 0., 0.],\n",
              "       [0., 0., 0., ..., 0., 0., 0.],\n",
              "       ...,\n",
              "       [0., 0., 0., ..., 0., 0., 0.],\n",
              "       [0., 0., 0., ..., 0., 0., 0.],\n",
              "       [0., 0., 0., ..., 0., 0., 0.]])"
            ]
          },
          "metadata": {},
          "execution_count": 37
        }
      ]
    },
    {
      "cell_type": "code",
      "metadata": {
        "id": "mp7N2xH1nxU8"
      },
      "source": [
        "# from sklearn.feature_selection import chi2\n",
        "# import numpy as np\n",
        "# N = 2\n",
        "# for i in sorted(label.items()):\n",
        "#   features_chi2 = chi2(features, label == label)\n",
        "#   indices = np.argsort(features_chi2[0])\n",
        "#   feature_names = np.array(tfidf.get_feature_names())[indices]\n",
        "#   unigrams = [v for v in feature_names if len(v.split(' ')) == 1]\n",
        "#   bigrams = [v for v in feature_names if len(v.split(' ')) == 2]\n",
        "#   print(\"# '{}':\".format(i))\n",
        "#   print(\"  . Most correlated unigrams:\\n. {}\".format('\\n. '.join(unigrams[-N:])))\n",
        "#   print(\"  . Most correlated bigrams:\\n. {}\".format('\\n. '.join(bigrams[-N:])))"
      ],
      "execution_count": 38,
      "outputs": []
    },
    {
      "cell_type": "code",
      "metadata": {
        "id": "ZrmamdPcajVF"
      },
      "source": [
        "# feature_names"
      ],
      "execution_count": 39,
      "outputs": []
    },
    {
      "cell_type": "code",
      "metadata": {
        "id": "QTZ85kojajX0"
      },
      "source": [
        "# from sklearn.model_selection import train_test_split\n",
        "# from sklearn.feature_extraction.text import CountVectorizer\n",
        "# from sklearn.feature_extraction.text import TfidfTransformer\n",
        "# from sklearn.naive_bayes import MultinomialNB\n",
        "\n",
        "# X_train, X_test, y_train, y_test = train_test_split(df_predictions_18k['tweet_nonstop'], df_predictions_18k['label'], random_state = 0)\n",
        "# count_vect = CountVectorizer()\n",
        "# X_train_counts = count_vect.fit_transform(X_train)\n",
        "# tfidf_transformer = TfidfTransformer()\n",
        "# X_train_tfidf = tfidf_transformer.fit_transform(X_train_counts)\n",
        "# clf = MultinomialNB().fit(X_train_tfidf, y_train)\n",
        "\n",
        "# y_pred4 = clf.predict(count_vect.transform(X_test))"
      ],
      "execution_count": 40,
      "outputs": []
    },
    {
      "cell_type": "code",
      "metadata": {
        "id": "LWPa8L-sVEpr"
      },
      "source": [
        "# y_pred4.shape"
      ],
      "execution_count": 41,
      "outputs": []
    },
    {
      "cell_type": "code",
      "metadata": {
        "id": "Ghgh-Wd8RTVT"
      },
      "source": [
        "from sklearn.model_selection import train_test_split\n",
        "from sklearn.feature_extraction.text import CountVectorizer\n",
        "from sklearn.feature_extraction.text import TfidfTransformer\n",
        "from sklearn.naive_bayes import MultinomialNB\n",
        "\n",
        "X_train, X_test, y_train, y_test = train_test_split(df3['tweet_nonstop'], df3['label'], test_size=0.3, random_state = 0)\n",
        "count_vect = CountVectorizer()\n",
        "X_train_counts = count_vect.fit_transform(X_train)\n",
        "tfidf_transformer = TfidfTransformer()\n",
        "X_train_tfidf = tfidf_transformer.fit_transform(X_train_counts)\n",
        "clf = MultinomialNB().fit(X_train_tfidf, y_train)"
      ],
      "execution_count": 42,
      "outputs": []
    },
    {
      "cell_type": "code",
      "metadata": {
        "colab": {
          "base_uri": "https://localhost:8080/"
        },
        "id": "BrjM51eUajaC",
        "outputId": "bb596a4f-9b7d-47fe-ae40-20b54e4773a0"
      },
      "source": [
        "print(clf.predict(count_vect.transform([\"also flu vaccine every year americans get contributes death toll sure people die complications flu mostly viral pneumonia like covid usually unvaccinated highly likely\"])))"
      ],
      "execution_count": 43,
      "outputs": [
        {
          "output_type": "stream",
          "name": "stdout",
          "text": [
            "[2]\n"
          ]
        }
      ]
    },
    {
      "cell_type": "code",
      "metadata": {
        "colab": {
          "base_uri": "https://localhost:8080/"
        },
        "id": "FDiCbdvHajcp",
        "outputId": "ec3827dc-f5d4-4cf8-9196-44a1bd1fc32a"
      },
      "source": [
        "print(clf.predict(count_vect.transform([\"fda food drug administration united states america stop using sharks use existing sustainable options sign petition\"])))"
      ],
      "execution_count": 44,
      "outputs": [
        {
          "output_type": "stream",
          "name": "stdout",
          "text": [
            "[1]\n"
          ]
        }
      ]
    },
    {
      "cell_type": "code",
      "metadata": {
        "colab": {
          "base_uri": "https://localhost:8080/"
        },
        "id": "uk_bno0najfO",
        "outputId": "af82c58c-1eb4-446b-d9fa-f7b42123e013"
      },
      "source": [
        "print(clf.predict(count_vect.transform([\"We did not get the vaccine yet because our neighbors got it and still got infected with virus nothing can be more hopeless than this\"])))"
      ],
      "execution_count": 45,
      "outputs": [
        {
          "output_type": "stream",
          "name": "stdout",
          "text": [
            "[1]\n"
          ]
        }
      ]
    },
    {
      "cell_type": "code",
      "metadata": {
        "colab": {
          "base_uri": "https://localhost:8080/",
          "height": 276
        },
        "id": "1yI1gNvUajm0",
        "outputId": "9d1ff6a8-51ef-4a89-9ac4-84c4ac0b172c"
      },
      "source": [
        "from sklearn.linear_model import LogisticRegression\n",
        "from sklearn.ensemble import RandomForestClassifier\n",
        "from sklearn.svm import LinearSVC\n",
        "from sklearn.model_selection import cross_val_score\n",
        "models = [\n",
        "    RandomForestClassifier(n_estimators=200, max_depth=3, random_state=0),\n",
        "    LinearSVC(),\n",
        "    MultinomialNB(),\n",
        "    LogisticRegression(random_state=0),\n",
        "]\n",
        "CV = 5\n",
        "cv_df = pd.DataFrame(index=range(CV * len(models)))\n",
        "entries = []\n",
        "for model in models:\n",
        "  model_name = model.__class__.__name__\n",
        "  accuracies = cross_val_score(model, features, label, scoring='accuracy', cv=CV)\n",
        "  for fold_idx, accuracy in enumerate(accuracies):\n",
        "    entries.append((model_name, fold_idx, accuracy))\n",
        "cv_df = pd.DataFrame(entries, columns=['model_name', 'fold_idx', 'accuracy'])\n",
        "import seaborn as sns\n",
        "sns.boxplot(x='model_name', y='accuracy', data=cv_df)\n",
        "sns.stripplot(x='model_name', y='accuracy', data=cv_df, \n",
        "              size=8, jitter=True, edgecolor=\"gray\", linewidth=2)\n",
        "plt.show()"
      ],
      "execution_count": 46,
      "outputs": [
        {
          "output_type": "display_data",
          "data": {
            "image/png": "[encoded data removed]",
            "text/plain": [
              "<Figure size 432x288 with 1 Axes>"
            ]
          },
          "metadata": {}
        }
      ]
    },
    {
      "cell_type": "code",
      "metadata": {
        "colab": {
          "base_uri": "https://localhost:8080/"
        },
        "id": "c-yJh96najpj",
        "outputId": "dddc134c-487c-411c-d70a-d151254b5e46"
      },
      "source": [
        "cv_df.groupby('model_name').accuracy.mean()\n"
      ],
      "execution_count": 47,
      "outputs": [
        {
          "output_type": "execute_result",
          "data": {
            "text/plain": [
              "model_name\n",
              "LinearSVC                 0.771746\n",
              "LogisticRegression        0.751968\n",
              "MultinomialNB             0.701110\n",
              "RandomForestClassifier    0.428254\n",
              "Name: accuracy, dtype: float64"
            ]
          },
          "metadata": {},
          "execution_count": 47
        }
      ]
    },
    {
      "cell_type": "code",
      "metadata": {
        "colab": {
          "base_uri": "https://localhost:8080/",
          "height": 602
        },
        "id": "F6gnnQzRajrx",
        "outputId": "a75184d9-246f-4d1f-8357-624e6866dde1"
      },
      "source": [
        "model = LinearSVC()\n",
        "X_train, X_test, y_train, y_test, indices_train, indices_test = train_test_split(features, label, df3.index, test_size=0.3, random_state=0)\n",
        "model.fit(X_train, y_train)\n",
        "y_pred = model.predict(X_test)\n",
        "from sklearn.metrics import confusion_matrix\n",
        "conf_mat = confusion_matrix(y_test, y_pred)\n",
        "conf_mat\n",
        "fig, ax = plt.subplots(figsize=(10,10))\n",
        "sns.heatmap(conf_mat,  fmt='d', annot =True,\n",
        "            xticklabels=[0,1,2], yticklabels=[0,1,2], ax=ax)\n",
        "plt.ylabel('Actual')\n",
        "plt.xlabel('Predicted')\n",
        "plt.show()"
      ],
      "execution_count": 48,
      "outputs": [
        {
          "output_type": "display_data",
          "data": {
            "image/png": "[encoded data removed]",
            "text/plain": [
              "<Figure size 720x720 with 2 Axes>"
            ]
          },
          "metadata": {}
        }
      ]
    },
    {
      "cell_type": "code",
      "metadata": {
        "colab": {
          "base_uri": "https://localhost:8080/"
        },
        "id": "rKUc4Gmg2sz2",
        "outputId": "f682427e-59a2-498a-f4de-e6e493b6184c"
      },
      "source": [
        "from sklearn import metrics\n",
        "print(metrics.classification_report(y_test, y_pred))"
      ],
      "execution_count": 49,
      "outputs": [
        {
          "output_type": "stream",
          "name": "stdout",
          "text": [
            "              precision    recall  f1-score   support\n",
            "\n",
            "           0       0.69      0.76      0.72       503\n",
            "           1       0.78      0.80      0.79       616\n",
            "           2       0.76      0.61      0.68       368\n",
            "\n",
            "    accuracy                           0.74      1487\n",
            "   macro avg       0.74      0.72      0.73      1487\n",
            "weighted avg       0.74      0.74      0.74      1487\n",
            "\n"
          ]
        }
      ]
    },
    {
      "cell_type": "code",
      "metadata": {
        "id": "GuWbAp8xLp3b"
      },
      "source": [
        "# # example of training a final classification model\n",
        "# from keras.models import Sequential\n",
        "# from keras.layers import Dense\n",
        "# from sklearn.datasets import make_blobs\n",
        "# from sklearn.preprocessing import MinMaxScaler\n",
        "# # generate 2d classification dataset\n",
        "# X, y = make_blobs(n_samples=100, centers=2, n_features=2, random_state=1)\n",
        "# scalar = MinMaxScaler()\n",
        "# scalar.fit(X)\n",
        "# X = scalar.transform(X)\n",
        "# # define and fit the final model\n",
        "# model = Sequential()\n",
        "# model.add(Dense(4, input_dim=2, activation='relu'))\n",
        "# model.add(Dense(4, activation='relu'))\n",
        "# model.add(Dense(1, activation='sigmoid'))\n",
        "# model.compile(loss='binary_crossentropy', optimizer='adam')\n",
        "# model.fit(X, y, epochs=200, verbose=0)\n"
      ],
      "execution_count": 50,
      "outputs": []
    },
    {
      "cell_type": "code",
      "metadata": {
        "id": "wzpPzKsAD9i0"
      },
      "source": [
        "# # example making new class predictions for a classification problem\n",
        "# from keras.models import Sequential\n",
        "# from keras.layers import Dense\n",
        "# from sklearn.datasets import make_blobs\n",
        "# from sklearn.preprocessing import MinMaxScaler\n",
        "# # generate 2d classification dataset\n",
        "# X, y = make_blobs(n_samples=100, centers=2, n_features=2, random_state=1)\n",
        "# scalar = MinMaxScaler()\n",
        "# scalar.fit(X)\n",
        "# X = scalar.transform(X)\n",
        "# # define and fit the final model\n",
        "# model = Sequential()\n",
        "# model.add(Dense(4, input_dim=2, activation='relu'))\n",
        "# model.add(Dense(4, activation='relu'))\n",
        "# model.add(Dense(1, activation='sigmoid'))\n",
        "# model.compile(loss='binary_crossentropy', optimizer='adam')\n",
        "# model.fit(X, y, epochs=500, verbose=0)\n",
        "# # new instances where we do not know the answer\n",
        "# Xnew, _ = make_blobs(n_samples=3, centers=2, n_features=2, random_state=1)\n",
        "# Xnew = scalar.transform(Xnew)\n",
        "# # make a prediction\n",
        "# ynew = model.predict_classes(Xnew)\n",
        "# # show the inputs and predicted outputs\n",
        "# for i in range(len(Xnew)):\n",
        "# \tprint(\"X=%s, Predicted=%s\" % (Xnew[i], ynew[i]))\n"
      ],
      "execution_count": 51,
      "outputs": []
    }
  ]
}